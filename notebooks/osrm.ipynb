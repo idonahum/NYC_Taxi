{
 "cells": [
  {
   "cell_type": "markdown",
   "source": [
    "# NYC Taxi Trip OSRM Analysis Notebook\n",
    "\n",
    "This notebook includes the analysis of the OSRM data for the NYC Taxi Trip dataset."
   ],
   "metadata": {
    "collapsed": false
   },
   "id": "6c2bbec2ac7655d"
  },
  {
   "cell_type": "code",
   "execution_count": null,
   "outputs": [],
   "source": [
    "!pip install osmnx folium networkx numpy pandas seaborn matplotlib scipy scikit-learn"
   ],
   "metadata": {
    "collapsed": false
   },
   "id": "e5f99522d1e2443e"
  },
  {
   "cell_type": "code",
   "execution_count": null,
   "outputs": [],
   "source": [
    "import pandas as pd\n",
    "import seaborn as sns\n",
    "import numpy as np\n",
    "import matplotlib.pyplot as plt\n",
    "import folium\n",
    "from scipy.spatial import cKDTree\n",
    "from sklearn.preprocessing import StandardScaler\n",
    "from sklearn.cluster import KMeans"
   ],
   "metadata": {
    "collapsed": false
   },
   "id": "29325e5d82dce49b"
  },
  {
   "cell_type": "code",
   "execution_count": null,
   "outputs": [],
   "source": [
    "# Helper functions\n",
    "def put_text_on_barplot(ax, values):\n",
    "    for i, value in enumerate(values):\n",
    "        ax.text(i, value, value, ha='center')"
   ],
   "metadata": {
    "collapsed": false
   },
   "id": "a649b2646513073a"
  },
  {
   "cell_type": "markdown",
   "source": [
    "Loading the data"
   ],
   "metadata": {
    "collapsed": false
   },
   "id": "c47b0967d45ce7e"
  },
  {
   "cell_type": "code",
   "execution_count": null,
   "outputs": [],
   "source": [
    "\n",
    "nyc_osrm = pd.read_csv('../datasets/osrm.csv')"
   ],
   "metadata": {
    "collapsed": false
   },
   "id": "8d75cf91c982cc6c"
  },
  {
   "cell_type": "code",
   "execution_count": null,
   "outputs": [],
   "source": [
    "# load the nyc data\n",
    "nyc = pd.read_csv('../datasets/nyc_with_features_basic_filtering.csv')"
   ],
   "metadata": {
    "collapsed": false
   },
   "id": "858556cc06bbf740"
  },
  {
   "cell_type": "markdown",
   "source": [],
   "metadata": {
    "collapsed": false
   },
   "id": "e74f837bf2aed144"
  },
  {
   "cell_type": "markdown",
   "source": [
    "\n",
    "OSRM - Open Source Routing Machine, is a routing engine designed for use with data from the OpenStreetMap project.\n",
    "To enhance our dataset, we will use the OSRM data to get the fastest routes for each trip in the NYC Taxi dataset, along with some other road conditions data.\n",
    "\n",
    "Reference: https://project-osrm.org/"
   ],
   "metadata": {
    "collapsed": false
   },
   "id": "b8b819757ae5bdf"
  },
  {
   "cell_type": "markdown",
   "source": [
    "### OSRM data Example\n",
    "\n",
    "Lets start by viewing an example of how OSRM api works.    "
   ],
   "metadata": {
    "collapsed": false
   },
   "id": "2b154a22af76f6c6"
  },
  {
   "cell_type": "code",
   "execution_count": null,
   "outputs": [],
   "source": [
    "import osmnx as ox\n",
    "import networkx as nx\n",
    "\n",
    "origin_point = (40.748817, -73.985428)\n",
    "destination_point = (40.712776, -74.005974) \n",
    "\n",
    "G = ox.graph_from_point(origin_point, dist=10000, network_type='drive')\n",
    "\n",
    "orig_node = ox.distance.nearest_nodes(G, origin_point[1], origin_point[0])\n",
    "dest_node = ox.distance.nearest_nodes(G, destination_point[1], destination_point[0])\n",
    "\n",
    "route = nx.shortest_path(G, orig_node, dest_node, weight='length')\n",
    "\n",
    "fig, ax = ox.plot_graph_route(G, route, node_size=0)\n",
    "\n"
   ],
   "metadata": {
    "collapsed": false
   },
   "id": "99425ce26feede71"
  },
  {
   "cell_type": "markdown",
   "source": [
    "The above example is just to show how the OSRM api works, we will use the OSRM data that specifically designed for the NYC Taxi dataset.\n",
    "\n",
    "### NYC OSRM Dataset\n",
    "\n",
    "The dataset contains the following columns:\n",
    "- id: A unique identifier for each trip.\n",
    "- distance (meters): The distance of the fastest route in meters.\n",
    "- duration (seconds): The duration of the fastest route in seconds given by OSRM.\n",
    "- srcCounty: The county where the trip started. 1: Manhattan, 2: Bronx, 3: Brooklyn, 4: Queens, 5: State Island.\n",
    "- dstCounty: The county where the trip ended. 1: Manhattan, 2: Bronx, 3: Brooklyn, 4: Queens, 5: State Island.\n",
    "Some road conditions data:\n",
    "- motorway: The fraction of the fastest route that is on a motorway.\n",
    "- trunk: The fraction of the fastest route that is on a trunk road.\n",
    "- primary: The fraction of the fastest route that is on a primary road.\n",
    "- secondary: The fraction of the fastest route that is on a secondary road.\n",
    "- tertiary: The fraction of the fastest route that is on a tertiary road.\n",
    "- unclassified: The fraction of the fastest route that is on an unclassified road.\n",
    "- residential: The fraction of the fastest route that is on a residential road.\n",
    "- nTrafficSignals: The number of traffic signals on the fastest route.\n",
    "- nCrossings: The number of pedestrian crossings on the fastest route.\n",
    "- nIntersections: The number of intersections on the fastest route.\n",
    "- nStops: The number of stops signs on the fastest route.\n",
    "\n",
    "For more information about the road types - https://wiki.openstreetmap.org/wiki/Key:highway#Roads"
   ],
   "metadata": {
    "collapsed": false
   },
   "id": "5bec5409551644a4"
  },
  {
   "cell_type": "code",
   "execution_count": null,
   "outputs": [],
   "source": [
    "nyc_osrm.head()"
   ],
   "metadata": {
    "collapsed": false
   },
   "id": "85452bdce1c3a524"
  },
  {
   "cell_type": "code",
   "execution_count": null,
   "outputs": [],
   "source": [
    "nyc_osrm.info()"
   ],
   "metadata": {
    "collapsed": false
   },
   "id": "4c874d4f6e8e6198"
  },
  {
   "cell_type": "markdown",
   "source": [
    "#### Exploring imperfect data"
   ],
   "metadata": {
    "collapsed": false
   },
   "id": "c3dd197a40ef69a6"
  },
  {
   "cell_type": "markdown",
   "source": [
    "Looks like dstCounty have some missing values, lets check for missing values and duplicates in the dataset."
   ],
   "metadata": {
    "collapsed": false
   },
   "id": "59aeec4520e8bb7b"
  },
  {
   "cell_type": "code",
   "execution_count": null,
   "outputs": [],
   "source": [
    "missing_values = nyc_osrm.isnull().sum()\n",
    "duplicate_values = nyc_osrm.duplicated('id').sum()\n",
    "print(missing_values)\n",
    "print(f\"Missing values: {missing_values.sum()}\")\n",
    "print(f\"Number of duplicates: {duplicate_values}\")\n",
    "print(f\"Percentage of missing values: {missing_values.sum() / nyc_osrm.shape[0] * 100:.2f}%\")"
   ],
   "metadata": {
    "collapsed": false
   },
   "id": "ec29e836c75a6942"
  },
  {
   "cell_type": "markdown",
   "source": [
    "The missing values are in srcCounty and dstCounty, according to the dataset description, the missing values are for trips that are outside of NYC, In this case we can drop the missing values, since they are not alot, we do it later after merging the datasets.\n"
   ],
   "metadata": {
    "collapsed": false
   },
   "id": "13aaa754fe6b9f8d"
  },
  {
   "cell_type": "markdown",
   "source": [
    "##### Duration and Distance Imperfect Data\n"
   ],
   "metadata": {
    "collapsed": false
   },
   "id": "6e48ab01864c251b"
  },
  {
   "cell_type": "code",
   "execution_count": null,
   "outputs": [],
   "source": [
    "nyc_osrm[['distance', 'duration']].describe()"
   ],
   "metadata": {
    "collapsed": false
   },
   "id": "78162ce9ab1e21b"
  },
  {
   "cell_type": "markdown",
   "source": [
    "There is no negative values in the distance and duration columns, but there are some values that are equal to 0.\n",
    "A good way to check if the osrm distance is correct is to check if it is bigger than the haversine distance between the pickup and dropoff points.\n",
    "\n",
    "For the duration, we can compare to the trip duration in the NYC dataset, we will do this later after merging the datasets."
   ],
   "metadata": {
    "collapsed": false
   },
   "id": "8f4e3c5e7c7c3a7b"
  },
  {
   "cell_type": "markdown",
   "source": [
    "##### Road Conditions Imperfect Data\n",
    "\n",
    "First thought that all road types should sum to 1, lets check if this is the case."
   ],
   "metadata": {
    "collapsed": false
   },
   "id": "d7a06bbff977a284"
  },
  {
   "cell_type": "code",
   "execution_count": null,
   "outputs": [],
   "source": [
    "road_types = ['motorway', 'trunk', 'primary', 'secondary', 'tertiary', 'unclassified', 'residential']\n",
    "nyc_osrm[road_types].sum(axis=1).round(2).value_counts()\n",
    "\n",
    "# plot the distribution of the sum of road types\n",
    "plt.figure(figsize=(10, 6))\n",
    "sns.histplot(nyc_osrm[road_types].sum(axis=1).round(2), bins=100, kde=True)\n",
    "# set xticks to be in percentage 0% to 100%\n",
    "plt.xticks(np.linspace(0, 1, num=11), labels=[f'{int(tick * 100)}%' for tick in np.linspace(0, 1, num=11)])\n",
    "# set yticks to be in hundreds of thousands, for example 100k, 200k, 300k\n",
    "plt.yticks(np.linspace(0, 800000, num=9), labels=[f'{int(tick / 1000)}k' for tick in np.linspace(0, 800000, num=9)])\n",
    "plt.title('Distribution of the Sum of Road Types')\n",
    "plt.xlabel('Sum of Road Types (%)')"
   ],
   "metadata": {
    "collapsed": false
   },
   "id": "3409130ae0e9a26b"
  },
  {
   "cell_type": "markdown",
   "source": [
    "The road types doesnt sum to 1, this could be for multiple reasons:\n",
    "1) The road types are not complete, there might be other road types that are not included in the dataset, like sidewalk, footway, etc.\n",
    "2) The road types are not accurate, the data might be noisy or not accurate.\n",
    "\n",
    "For now, lets mark them as imprefect road types\n",
    "\n",
    "We will use a threshold of 0.95 which is soft and not too strict, we can adjust this value later."
   ],
   "metadata": {
    "collapsed": false
   },
   "id": "a844ce405e20f028"
  },
  {
   "cell_type": "code",
   "execution_count": null,
   "outputs": [],
   "source": [
    "nyc_osrm['perfect_road_types'] = nyc_osrm[road_types].sum(axis=1).round(2) > 0.95"
   ],
   "metadata": {
    "collapsed": false
   },
   "id": "3b867f8517d16a77"
  },
  {
   "cell_type": "code",
   "execution_count": null,
   "outputs": [],
   "source": [
    "print(len(nyc_osrm[nyc_osrm['perfect_road_types']])/len(nyc_osrm)*100)"
   ],
   "metadata": {
    "collapsed": false
   },
   "id": "696a18cc35be8241"
  },
  {
   "cell_type": "markdown",
   "source": [
    "About 58% of the data is marked as perfect road types."
   ],
   "metadata": {
    "collapsed": false
   },
   "id": "268ccce838baf3fd"
  },
  {
   "cell_type": "markdown",
   "source": [
    "##### Missing Trip between osrm and nyc datasets\n",
    "Lets check if some ids are missing in the OSRM dataset."
   ],
   "metadata": {
    "collapsed": false
   },
   "id": "b01d837a65763453"
  },
  {
   "cell_type": "code",
   "execution_count": null,
   "outputs": [],
   "source": [
    "missing_ids = nyc[~nyc['id'].isin(nyc_osrm['id'])]\n",
    "missing_ids"
   ],
   "metadata": {
    "collapsed": false
   },
   "id": "6cecfbff2f18b8d5"
  },
  {
   "cell_type": "code",
   "execution_count": null,
   "outputs": [],
   "source": [
    "# drop the missing ids\n",
    "nyc = nyc[nyc['id'].isin(nyc_osrm['id'])]"
   ],
   "metadata": {
    "collapsed": false
   },
   "id": "7096c3a41359c41e"
  },
  {
   "cell_type": "markdown",
   "source": [
    "Now that both datasets are aligned, we can merge them together."
   ],
   "metadata": {
    "collapsed": false
   },
   "id": "d914cce4c69ce897"
  },
  {
   "cell_type": "code",
   "execution_count": null,
   "outputs": [],
   "source": [
    "nyc_with_osrm = nyc.merge(nyc_osrm, on='id')"
   ],
   "metadata": {
    "collapsed": false
   },
   "id": "91c88c3061048cbe"
  },
  {
   "cell_type": "markdown",
   "source": [
    "### Exploring the NYC OSRM Dataset\n",
    "\n",
    "Lets explore the merged dataset before we start the imperfection handling."
   ],
   "metadata": {
    "collapsed": false
   },
   "id": "2a2aa192f59cedfb"
  },
  {
   "cell_type": "code",
   "execution_count": null,
   "outputs": [],
   "source": [
    "nyc_with_osrm.head()"
   ],
   "metadata": {
    "collapsed": false
   },
   "id": "3a57e2e8a4d91e11"
  },
  {
   "cell_type": "code",
   "execution_count": null,
   "outputs": [],
   "source": [
    "nyc_with_osrm.info()"
   ],
   "metadata": {
    "collapsed": false
   },
   "id": "33cd22718f5004ea"
  },
  {
   "cell_type": "markdown",
   "source": [
    "Rename some columns to prevent confusion with the original dataset."
   ],
   "metadata": {
    "collapsed": false
   },
   "id": "963e9b7872dd8d0c"
  },
  {
   "cell_type": "code",
   "execution_count": null,
   "outputs": [],
   "source": [
    "nyc_with_osrm.rename(columns={'duration': 'osrm_duration','distance': 'osrm_distance'}, inplace=True)"
   ],
   "metadata": {
    "collapsed": false
   },
   "id": "38f44a48a2c6ded2"
  },
  {
   "cell_type": "markdown",
   "source": [
    "#### Source and Destination County Distribution\n",
    "\n",
    "Changing the srcCounty and dstCounty to their actual names instead of the numerical values.\n"
   ],
   "metadata": {
    "collapsed": false
   },
   "id": "94cd0a394b8ab7a8"
  },
  {
   "cell_type": "code",
   "execution_count": null,
   "outputs": [],
   "source": [
    "mapping_dict = {1: 'Manhattan', 2: 'Bronx', 3: 'Brooklyn', 4: 'Queens', 5: 'State Island'}\n",
    "\n",
    "nyc_with_osrm['dstCountyClass'] = nyc_with_osrm['dstCounty'].map(mapping_dict)\n",
    "nyc_with_osrm['srcCountyClass'] = nyc_with_osrm['srcCounty'].map(mapping_dict)"
   ],
   "metadata": {
    "collapsed": false
   },
   "id": "2f2ea5f1cf26824c"
  },
  {
   "cell_type": "markdown",
   "source": [
    "##### Map preview\n",
    "\n",
    "We will sample some points per county and plot them on the map to get a better understanding of the data."
   ],
   "metadata": {
    "collapsed": false
   },
   "id": "4085442f90daa238"
  },
  {
   "cell_type": "code",
   "execution_count": null,
   "outputs": [],
   "source": [
    "def plot_county_map(map, data):\n",
    "    county_to_color = {'Brooklyn': 'blue', 'Queens': 'green', 'State Island': 'red', 'Manhattan': 'purple', 'Bronx': 'orange'}\n",
    "\n",
    "    for county in county_to_color:\n",
    "        county_data = data[data['srcCountyClass'] == county]\n",
    "        county_sample = county_data.sample(frac=0.01 if county == 'Manhattan' else 0.1) # Manhattan has a lot of data points, so we sample less\n",
    "        \n",
    "        for i in range(county_sample.shape[0]):\n",
    "            folium.CircleMarker(\n",
    "                [county_sample.iloc[i]['pickup_latitude'], county_sample.iloc[i]['pickup_longitude']], \n",
    "                radius=1, color=county_to_color[county]\n",
    "            ).add_to(map)\n",
    "            \n",
    "\n",
    "nyc_map = folium.Map(location=[40.748817, -73.985428], zoom_start=10)\n",
    "\n",
    "plot_county_map(nyc_map, nyc_with_osrm)\n",
    "\n",
    "nyc_map\n"
   ],
   "metadata": {
    "collapsed": false
   },
   "id": "9c65fc3e94ecc67f"
  },
  {
   "cell_type": "markdown",
   "source": [
    "Insights: Most of the trips start in Manhattan, followed by Brooklyn and Queens. The number of trips starting in State Island and the Bronx is much lower. "
   ],
   "metadata": {
    "collapsed": false
   },
   "id": "f6896864f0372ee2"
  },
  {
   "cell_type": "code",
   "execution_count": null,
   "outputs": [],
   "source": [
    "def create_data_for_county_plot(data):\n",
    "    src_data = data[['srcCountyClass']].copy()\n",
    "    src_data['type'] = 'srcCountyClass'\n",
    "    src_data.reset_index(drop=True, inplace=True)\n",
    "\n",
    "    dst_data = data[['dstCountyClass']].copy()\n",
    "    dst_data['type'] = 'dstCountyClass'\n",
    "    dst_data.reset_index(drop=True, inplace=True)\n",
    "    \n",
    "    src_data.columns = ['CountyClass', 'type']\n",
    "    dst_data.columns = ['CountyClass', 'type']\n",
    "    \n",
    "    return pd.concat([src_data, dst_data], ignore_index=True)\n",
    "\n",
    "combined_data = create_data_for_county_plot(nyc_with_osrm)\n",
    "\n",
    "plt.figure(figsize=(10, 6))\n",
    "ax = sns.countplot(x='CountyClass', hue='type', data=combined_data)\n",
    "plt.title('Number of Trips per County Class (srcCountyClass vs dstCountyClass)')\n",
    "\n",
    "for p in ax.patches:\n",
    "    ax.annotate(f'{int(p.get_height())}', \n",
    "                (p.get_x() + p.get_width() / 2., p.get_height()), \n",
    "                ha='center', va='baseline', fontsize=10, color='black', xytext=(0, 5), textcoords='offset points')\n",
    "\n",
    "ax.tick_params(left=False, bottom=False)\n",
    "\n",
    "plt.tight_layout()\n",
    "plt.show()\n"
   ],
   "metadata": {
    "collapsed": false
   },
   "id": "3c44add3acd3fed3"
  },
  {
   "cell_type": "markdown",
   "source": [
    "Insights: Most trips start and end in Manhattan, followed by Brooklyn and Queens. The number of trips starting and ending in State Island and the Bronx is much lower. This is expected, as Manhattan is the most densely populated and central borough in New York City."
   ],
   "metadata": {
    "collapsed": false
   },
   "id": "324dfc1f94bdcfca"
  },
  {
   "cell_type": "markdown",
   "source": [
    "#### Road Conditions Distribution\n",
    "\n",
    "Because we have some imperfect data, we will first analyze a filtered dataset to get a better understanding of the road conditions.\n",
    "If we will find some interesting insights, we will try to fix the imperfect data."
   ],
   "metadata": {
    "collapsed": false
   },
   "id": "599ce93a64546edf"
  },
  {
   "cell_type": "code",
   "execution_count": null,
   "outputs": [],
   "source": [
    "# taking the 97.5% quantile of the trip duration, and removing osrm_duration that are less than 0\n",
    "filtered_nyc_with_osrm = nyc_with_osrm[nyc_with_osrm['trip_duration'] < nyc_with_osrm['trip_duration'].quantile(0.975)]\n",
    "filtered_nyc_with_osrm = filtered_nyc_with_osrm[filtered_nyc_with_osrm['osrm_duration'] > 0]"
   ],
   "metadata": {
    "collapsed": false
   },
   "id": "f3c3b7320f2b7ce6"
  },
  {
   "cell_type": "code",
   "execution_count": null,
   "outputs": [],
   "source": [
    "plt.figure(figsize=(10, 6))\n",
    "sns.heatmap(filtered_nyc_with_osrm[['trip_duration', 'osrm_duration', 'osrm_distance','nTrafficSignals','nCrossing','nStop','nIntersection']].corr(), annot=True, cmap='coolwarm', fmt='.2f')\n",
    "plt.title('Correlation Heatmap between Trip Duration and OSRM Duration')\n",
    "plt.show()"
   ],
   "metadata": {
    "collapsed": false
   },
   "id": "2e0dc1dba5d051b7"
  },
  {
   "cell_type": "markdown",
   "source": [
    "Insights: osrm duration , osrm distance and nTrafficSignals have a positive correlation with the trip duration, this could be useful for our model."
   ],
   "metadata": {
    "collapsed": false
   },
   "id": "42f37b925f213edd"
  },
  {
   "cell_type": "markdown",
   "source": [
    "#### OSRM Duration vs Trip Duration\n",
    "\n",
    "Lets plot the trip duration vs OSRM duration, we will use the filtered data for better visualization."
   ],
   "metadata": {
    "collapsed": false
   },
   "id": "302e912e56fc513d"
  },
  {
   "cell_type": "code",
   "execution_count": null,
   "outputs": [],
   "source": [
    "plt.figure(figsize=(10, 6))\n",
    "plt.hexbin(np.log(filtered_nyc_with_osrm['osrm_duration']), np.log(filtered_nyc_with_osrm['trip_duration']), gridsize=50,  mincnt=1)\n",
    "log_ticks = np.linspace(np.log(filtered_nyc_with_osrm['osrm_duration']).min(), np.log(filtered_nyc_with_osrm['osrm_duration']).max(), num=10)\n",
    "original_ticks = np.expm1(log_ticks)\n",
    "plt.xticks(log_ticks, labels=[f'{int(tick):,}' for tick in original_ticks])\n",
    "log_ticks = np.linspace(np.log(filtered_nyc_with_osrm['trip_duration']).min(), np.log(filtered_nyc_with_osrm['trip_duration']).max(), num=10)\n",
    "original_ticks = np.expm1(log_ticks)\n",
    "plt.yticks(log_ticks, labels=[f'{int(tick):,}' for tick in original_ticks])\n",
    "plt.title('Hexbin Plot of Trip Duration vs OSRM Duration')\n",
    "plt.xlabel('OSRM Duration log(seconds)')\n",
    "plt.ylabel('Trip Duration log(seconds)')\n",
    "\n",
    "cbar = plt.colorbar(label='Count')\n",
    "cbar.set_ticks(cbar.get_ticks())\n",
    "cbar.set_ticklabels([int(tick / 1000) for tick in cbar.get_ticks()])\n",
    "cbar.set_label('Count (x1k)')\n",
    "\n",
    "plt.show()"
   ],
   "metadata": {
    "collapsed": false
   },
   "id": "8bae11f231cef0b8"
  },
  {
   "cell_type": "markdown",
   "source": [
    "Insights: We can see a positive linear relationship between the trip duration and the OSRM duration."
   ],
   "metadata": {
    "collapsed": false
   },
   "id": "48548392108a9e37"
  },
  {
   "cell_type": "markdown",
   "source": [
    "### OSRM Distance vs Trip Duration\n",
    "\n",
    "Lets plot the trip duration vs OSRM distance, we will use the filtered data for better visualization. "
   ],
   "metadata": {
    "collapsed": false
   },
   "id": "aae34196c2b51e1"
  },
  {
   "cell_type": "code",
   "execution_count": null,
   "outputs": [],
   "source": [
    "import matplotlib.pyplot as plt\n",
    "\n",
    "# Filter the data by trip duration up to 1 hour\n",
    "filtered_nyc_with_osrm = nyc_with_osrm[nyc_with_osrm['trip_duration'] < 60 * 60]\n",
    "# Filter the data by OSRM distance up to 80 km (converted to meters)\n",
    "filtered_nyc_with_osrm = filtered_nyc_with_osrm[filtered_nyc_with_osrm['osrm_distance'] < 80000]\n",
    "\n",
    "plt.figure(figsize=(10, 6))\n",
    "plt.hexbin(filtered_nyc_with_osrm['osrm_distance'], filtered_nyc_with_osrm['trip_duration'], gridsize=50, mincnt=1)\n",
    "plt.title('Hexbin Plot of Trip Duration vs OSRM Distance')\n",
    "plt.xlabel('OSRM Distance (meters)')\n",
    "plt.ylabel('Trip Duration (seconds)')\n",
    "\n",
    "cbar = plt.colorbar(label='Count')\n",
    "cbar.set_ticks(cbar.get_ticks())\n",
    "cbar.set_ticklabels([int(tick / 1000) for tick in cbar.get_ticks()])\n",
    "cbar.set_label('Count (x1k)')\n",
    "\n",
    "x_ticks = plt.gca().get_xticks() \n",
    "x_ticks = x_ticks[1:]\n",
    "plt.xticks(x_ticks, [f'{int(tick / 1000)}k' for tick in x_ticks])  # Convert to thousands\n",
    "\n",
    "plt.show()\n"
   ],
   "metadata": {
    "collapsed": false
   },
   "id": "35a9bbb389f6aa2e"
  },
  {
   "cell_type": "markdown",
   "source": [
    "Insights: There is a positive correlation between the trip duration and the OSRM distance, but the relationship is not as strong as with the OSRM duration. This could be due to traffic conditions, road conditions, or other factors that affect the trip duration, remember the imperfect osrm data that we have seen earlier."
   ],
   "metadata": {
    "collapsed": false
   },
   "id": "58dd88f832cec0db"
  },
  {
   "cell_type": "markdown",
   "source": [
    "#### Handling imperfect data\n",
    "From the exploration insights looks like osrm dataset have some good information that can be used to enhance the NYC dataset, but there are some imperfect data that we need to handle."
   ],
   "metadata": {
    "collapsed": false
   },
   "id": "71b7a30a157b0a3e"
  },
  {
   "cell_type": "markdown",
   "source": [
    "1) Since the missing values in srcCounty and dstCounty are for trips that are outside of NYC, we can drop them, and it only 0.5% of the data."
   ],
   "metadata": {
    "collapsed": false
   },
   "id": "976aaf77fae3dd89"
  },
  {
   "cell_type": "code",
   "execution_count": null,
   "outputs": [],
   "source": [
    "nyc_with_osrm.dropna(inplace=True)\n",
    "nyc_with_osrm.reset_index(drop=True, inplace=True)\n",
    "nyc_with_osrm.info()"
   ],
   "metadata": {
    "collapsed": false
   },
   "id": "edd01ced4bda6811"
  },
  {
   "cell_type": "markdown",
   "source": [
    "2. Lets check the distance and duration columns, and compare them to the haversine distance and the trip duration in the NYC dataset."
   ],
   "metadata": {
    "collapsed": false
   },
   "id": "b25dc469c24dfb10"
  },
  {
   "cell_type": "code",
   "execution_count": null,
   "outputs": [],
   "source": [
    "nyc_with_osrm['haversine_distance'].describe()"
   ],
   "metadata": {
    "collapsed": false
   },
   "id": "5d0c3c37be735787"
  },
  {
   "cell_type": "markdown",
   "source": [
    "The approximated minimum block length in nyc is 80 meters, thus the minimum haversine distance should be around 80 meters, lets check for distances less than 80 meters, we can assume that most people will walk this distance."
   ],
   "metadata": {
    "collapsed": false
   },
   "id": "876d3e00bbe0c41a"
  },
  {
   "cell_type": "code",
   "execution_count": null,
   "outputs": [],
   "source": [
    "# drop rows with haversion distance less than 20 meters\n",
    "nyc_with_osrm = nyc_with_osrm[nyc_with_osrm['haversine_distance'] > 80].reset_index(drop=True)"
   ],
   "metadata": {
    "collapsed": false
   },
   "id": "cdfa84a78594d562"
  },
  {
   "cell_type": "code",
   "execution_count": null,
   "outputs": [],
   "source": [
    "nyc_with_osrm['haversine_distance'].describe()"
   ],
   "metadata": {
    "collapsed": false
   },
   "id": "1f19f2283b857cf3"
  },
  {
   "cell_type": "code",
   "execution_count": null,
   "outputs": [],
   "source": [
    "# add distance diff column\n",
    "nyc_with_osrm['distance_diff'] = nyc_with_osrm['osrm_distance'] - nyc_with_osrm['haversine_distance']"
   ],
   "metadata": {
    "collapsed": false
   },
   "id": "cb8c522094f092c0"
  },
  {
   "cell_type": "code",
   "execution_count": null,
   "outputs": [],
   "source": [
    "# check for distance smaller than the manhattan distance\n",
    "nyc_with_osrm[nyc_with_osrm['osrm_distance'] < nyc_with_osrm['haversine_distance']]"
   ],
   "metadata": {
    "collapsed": false
   },
   "id": "a2cf806a2bfa9237"
  },
  {
   "cell_type": "code",
   "execution_count": null,
   "outputs": [],
   "source": [
    "nyc_with_osrm[nyc_with_osrm['osrm_distance'] < nyc_with_osrm['haversine_distance']]['distance_diff'].describe()\n",
    "\n",
    "# print the precentage of the data that have a distance smaller than the haversine distance\n",
    "print(len(nyc_with_osrm[nyc_with_osrm['osrm_distance'] < nyc_with_osrm['haversine_distance']])/len(nyc_with_osrm)*100)\n",
    "print(len(nyc_with_osrm[nyc_with_osrm['osrm_distance'] < nyc_with_osrm['haversine_distance']]))"
   ],
   "metadata": {
    "collapsed": false
   },
   "id": "f61bb95c52cbcb3f"
  },
  {
   "cell_type": "markdown",
   "source": [
    "Only 0.35% of the data have a distance smaller than the haversine distance.\n",
    "\n",
    "Haversine distance is the shortest distance between two points on the surface of a sphere, we can see that there are some trips that have a distance smaller than this distance, this could be due to the imperfect data in the OSRM dataset, lets mark them as imperfect data."
   ],
   "metadata": {
    "collapsed": false
   },
   "id": "d439e0f0ba499401"
  },
  {
   "cell_type": "code",
   "execution_count": null,
   "outputs": [],
   "source": [
    "nyc_with_osrm['perfect_distance'] = nyc_with_osrm['osrm_distance'] >= nyc_with_osrm['haversine_distance']"
   ],
   "metadata": {
    "collapsed": false
   },
   "id": "e2b35666fc214528"
  },
  {
   "cell_type": "markdown",
   "source": [
    "Lets move on to the osrm duration, lets get the difference between the trip duration and the osrm duration."
   ],
   "metadata": {
    "collapsed": false
   },
   "id": "c01cb2c1fb923cde"
  },
  {
   "cell_type": "code",
   "execution_count": null,
   "outputs": [],
   "source": [
    "nyc_with_osrm['duration_ratio'] = nyc_with_osrm['trip_duration'] / nyc_with_osrm['osrm_duration']"
   ],
   "metadata": {
    "collapsed": false
   },
   "id": "39b8c6dd37afd26b"
  },
  {
   "cell_type": "code",
   "execution_count": null,
   "outputs": [],
   "source": [
    "nyc_with_osrm['duration_diff'] = nyc_with_osrm['trip_duration'] - nyc_with_osrm['osrm_duration']"
   ],
   "metadata": {
    "collapsed": false
   },
   "id": "3a55e077a8c9417"
  },
  {
   "cell_type": "code",
   "execution_count": null,
   "outputs": [],
   "source": [
    "nyc_with_osrm[['duration_ratio', 'duration_diff']].describe()"
   ],
   "metadata": {
    "collapsed": false
   },
   "id": "8c5f94d239143c8a"
  },
  {
   "cell_type": "markdown",
   "source": [
    "The basic filtering using haversine removed all those 0 osrm duration values, lets check the distribution of the duration ratio."
   ],
   "metadata": {
    "collapsed": false
   },
   "id": "c1b6e91c2289dfc0"
  },
  {
   "cell_type": "code",
   "execution_count": null,
   "outputs": [],
   "source": [
    "duration_ratio = nyc_with_osrm['duration_ratio']\n",
    "plt.figure(figsize=(10, 6))\n",
    "sns.histplot(duration_ratio, bins=100, kde=True)\n",
    "\n",
    "plt.title('Distribution of the Duration Ratio')\n",
    "plt.xlabel('Duration Ratio')\n",
    "plt.ylabel('Number of Trips')\n"
   ],
   "metadata": {
    "collapsed": false
   },
   "id": "a3bbdc5c22d9edf8"
  },
  {
   "cell_type": "markdown",
   "source": [
    "Its hard to understand the distribution, Most of the data is around 1, lets check by splitting the data into two parts, one with duration ratio less than 1 and the other with duration ratio greater than 1."
   ],
   "metadata": {
    "collapsed": false
   },
   "id": "4e8b7a2e553ff95b"
  },
  {
   "cell_type": "code",
   "execution_count": null,
   "outputs": [],
   "source": [
    "nyc_with_osrm[nyc_with_osrm['duration_ratio'] < 1][['id', 'duration_ratio', 'trip_duration', 'osrm_duration','duration_diff']].describe()"
   ],
   "metadata": {
    "collapsed": false
   },
   "id": "8cf602339a1c4359"
  },
  {
   "cell_type": "code",
   "execution_count": null,
   "outputs": [],
   "source": [
    "\n",
    "# Filter the data for duration_ratio < 1\n",
    "filtered_data = nyc_with_osrm[nyc_with_osrm['duration_ratio'] < 1]\n",
    "\n",
    "plt.figure(figsize=(10, 6))\n",
    "\n",
    "plt.scatter(filtered_data['haversine_distance'], filtered_data['duration_ratio'], alpha=0.5, label='Data Points')\n",
    "\n",
    "plt.xlabel('Haversine Distance')\n",
    "plt.ylabel('Duration Ratio')\n",
    "plt.title('Haversine Distance vs Duration Ratio for Duration Ratio < 1')\n",
    "plt.legend()\n",
    "plt.grid(True)\n",
    "\n",
    "plt.show()\n"
   ],
   "metadata": {
    "collapsed": false
   },
   "id": "81f13255e6084c01"
  },
  {
   "cell_type": "markdown",
   "source": [
    "The scatter plot shows that it looks like a polynom or a curve which we can use to remove outliers."
   ],
   "metadata": {
    "collapsed": false
   },
   "id": "e74f653c6a28246b"
  },
  {
   "cell_type": "code",
   "execution_count": null,
   "outputs": [],
   "source": [
    "print(len(nyc_with_osrm[nyc_with_osrm['duration_ratio'] < 0.835]))\n",
    "print(len(nyc_with_osrm[nyc_with_osrm['duration_ratio'] < 0.835])/len(nyc_with_osrm)*100)\n",
    "nyc_with_osrm[nyc_with_osrm['duration_ratio'] < 0.835][['id', 'duration_ratio', 'trip_duration', 'osrm_duration','duration_diff']].describe()"
   ],
   "metadata": {
    "collapsed": false
   },
   "id": "3d85eec1fdf83c60"
  },
  {
   "cell_type": "markdown",
   "source": [
    "Using a lower bound 0.835 is a good start to filter out the imperfect data, we can adjust this value later, in this way only 0.38% of the data is marked as imperfect data.\n",
    "\n",
    "Now for the other part:"
   ],
   "metadata": {
    "collapsed": false
   },
   "id": "a7259d06071c827d"
  },
  {
   "cell_type": "code",
   "execution_count": null,
   "outputs": [],
   "source": [
    "nyc_with_osrm[(nyc_with_osrm['duration_ratio'] >= 1) & (nyc_with_osrm['duration_ratio'] != np.inf)][['id', 'duration_ratio']].describe()\n"
   ],
   "metadata": {
    "collapsed": false
   },
   "id": "5dbc08760ae43da4"
  },
  {
   "cell_type": "markdown",
   "source": [
    "The mean is reasonable, around 3, but the std is very large due to the outliers."
   ],
   "metadata": {
    "collapsed": false
   },
   "id": "8a7dbcaa1c62b5fd"
  },
  {
   "cell_type": "code",
   "execution_count": null,
   "outputs": [],
   "source": [
    "filtered_data = nyc_with_osrm[(nyc_with_osrm['duration_ratio'] >= 1) & (nyc_with_osrm['duration_ratio'] != np.inf)]\n",
    "\n",
    "plt.figure(figsize=(10, 6))\n",
    "plt.scatter(filtered_data['haversine_distance'], filtered_data['duration_ratio'], alpha=0.5, label='Data Points')\n",
    "\n",
    "plt.xlabel('Haversine Distance')\n",
    "plt.ylabel('Duration Ratio')\n",
    "plt.title('Haversine Distance vs Duration Ratio for Duration Ratio >= 1')\n",
    "plt.legend()\n",
    "plt.grid(True)\n"
   ],
   "metadata": {
    "collapsed": false
   },
   "id": "3bbf0a70c3a8411b"
  },
  {
   "cell_type": "code",
   "execution_count": null,
   "outputs": [],
   "source": [
    "# if we use the mean as the upper bound, how much data will be marked as imperfect?\n",
    "upper_bound = nyc_with_osrm['duration_ratio'].mean()\n",
    "print(len(nyc_with_osrm[nyc_with_osrm['duration_ratio'] > upper_bound]))\n",
    "print(len(nyc_with_osrm[nyc_with_osrm['duration_ratio'] > upper_bound])/len(nyc_with_osrm)*100)\n",
    "print(upper_bound)"
   ],
   "metadata": {
    "collapsed": false
   },
   "id": "3d166c872fb2cb50"
  },
  {
   "cell_type": "markdown",
   "source": [
    "In this way 22.5% of the data will be marked as imperfect data, 3.5 ratio is reasonable, we will mark those as imperfect data and try to fix them using the good data."
   ],
   "metadata": {
    "collapsed": false
   },
   "id": "91e1a3157f7b57b8"
  },
  {
   "cell_type": "code",
   "execution_count": null,
   "outputs": [],
   "source": [
    "lower_bound = 0.835\n",
    "\n",
    "nyc_with_osrm['perfect_duration'] = (nyc_with_osrm['duration_ratio'] >= lower_bound) & (nyc_with_osrm['duration_ratio'] <= upper_bound)"
   ],
   "metadata": {
    "collapsed": false
   },
   "id": "6c00540d89dc84cd"
  },
  {
   "cell_type": "markdown",
   "source": [
    "Now that we marked all the imperfect data, lets try to fix them.\n",
    "\n",
    "For all imperfect data, we will try to find the nearest neighbor in the good data. "
   ],
   "metadata": {
    "collapsed": false
   },
   "id": "2ed0848de80ca566"
  },
  {
   "cell_type": "code",
   "execution_count": null,
   "outputs": [],
   "source": [
    "# Step 1: Create KD-Trees for pickup and dropoff coordinates\n",
    "good_data = nyc_with_osrm[nyc_with_osrm['perfect_distance'] & nyc_with_osrm['perfect_duration'] & nyc_with_osrm['perfect_road_types']].reset_index(drop=True)\n",
    "bad_data = nyc_with_osrm[~nyc_with_osrm['perfect_distance'] | ~nyc_with_osrm['perfect_duration'] | ~nyc_with_osrm['perfect_road_types']].reset_index(drop=True)\n",
    "\n",
    "print(f'Number of good samples: {good_data.shape[0]}')\n",
    "print(f'Number of bad samples: {bad_data.shape[0]}')\n",
    "\n",
    "scaler = StandardScaler()\n",
    "good_coords = scaler.fit_transform(good_data[['pickup_latitude', 'pickup_longitude', 'dropoff_latitude', 'dropoff_longitude','haversine_distance']])\n",
    "bad_coords = scaler.transform(bad_data[['pickup_latitude', 'pickup_longitude', 'dropoff_latitude', 'dropoff_longitude',\n",
    "                                        'haversine_distance']])\n",
    "# Build a k-d tree for the good samples using the combined features\n",
    "tree = cKDTree(good_coords)\n",
    "\n",
    "\n"
   ],
   "metadata": {
    "collapsed": false
   },
   "id": "aa7185a3c19fdbf"
  },
  {
   "cell_type": "code",
   "execution_count": null,
   "outputs": [],
   "source": [
    "distances, indices = tree.query(bad_coords)"
   ],
   "metadata": {
    "collapsed": false
   },
   "id": "1a387662a1fe95be"
  },
  {
   "cell_type": "code",
   "execution_count": null,
   "outputs": [],
   "source": [
    "nyc_with_osrm.loc[~nyc_with_osrm['perfect_distance'] | ~nyc_with_osrm['perfect_duration'] | ~nyc_with_osrm['perfect_road_types'], 'nearest_neighbor_id'] = good_data.iloc[indices.flatten()]['id'].values"
   ],
   "metadata": {
    "collapsed": false
   },
   "id": "a1d575859ac944dd"
  },
  {
   "cell_type": "markdown",
   "source": [
    "Adding the nearest neighbor pickup and dropoff haversine distance to the bad data."
   ],
   "metadata": {
    "collapsed": false
   },
   "id": "c6170677c8f4e08a"
  },
  {
   "cell_type": "code",
   "execution_count": null,
   "outputs": [],
   "source": [
    "def haversine_distance(lat1, lon1, lat2, lon2):\n",
    "    \"\"\"\n",
    "    Calculate the haversine distance between two points\n",
    "    \"\"\"\n",
    "    R = 6371  # Radius of the Earth in kilometers\n",
    "    phi1 = np.radians(lat1)\n",
    "    phi2 = np.radians(lat2)\n",
    "    delta_phi = np.radians(lat2 - lat1)\n",
    "    delta_lambda = np.radians(lon2 - lon1)\n",
    "    \n",
    "    a = np.sin(delta_phi / 2)**2 + np.cos(phi1) * np.cos(phi2) * np.sin(delta_lambda / 2)**2\n",
    "    c = 2 * np.arctan2(np.sqrt(a), np.sqrt(1 - a))\n",
    "    \n",
    "    return R * c * 1000  # convert to meters"
   ],
   "metadata": {
    "collapsed": false
   },
   "id": "cc4422dff5b79c5f"
  },
  {
   "cell_type": "code",
   "execution_count": null,
   "outputs": [],
   "source": [
    "# for each bad sample, calculate the haversine distance between it and its nearest neighbor, add the result to new columns: haversine_to_nn_pickup_distance and haversine_to_nn_dropoff_distance on nyc_with_osrm\n",
    "\n",
    "bad_good_haversine_distances_pickup = []\n",
    "bad_good_haversine_distances_dropoff = []\n",
    "\n",
    "for i in range(bad_data.shape[0]):\n",
    "    bad_sample = bad_data.iloc[i]\n",
    "    nearest_neighbor = good_data.iloc[indices[i]]\n",
    "    \n",
    "    bad_good_haversine_distance_pickup = haversine_distance(bad_sample['pickup_latitude'], bad_sample['pickup_longitude'], nearest_neighbor['pickup_latitude'], nearest_neighbor['pickup_longitude'])\n",
    "    bad_good_haversine_distance_dropoff = haversine_distance(bad_sample['dropoff_latitude'], bad_sample['dropoff_longitude'], nearest_neighbor['dropoff_latitude'], nearest_neighbor['dropoff_longitude'])\n",
    "    \n",
    "    bad_good_haversine_distances_pickup.append(bad_good_haversine_distance_pickup)\n",
    "    bad_good_haversine_distances_dropoff.append(bad_good_haversine_distance_dropoff)\n",
    "    \n",
    "nyc_with_osrm.loc[~nyc_with_osrm['perfect_distance'] | ~nyc_with_osrm['perfect_duration'] | ~nyc_with_osrm['perfect_road_types'], 'haversine_to_nn_pickup_distance'] = bad_good_haversine_distances_pickup\n",
    "nyc_with_osrm.loc[~nyc_with_osrm['perfect_distance'] | ~nyc_with_osrm['perfect_duration'] | ~nyc_with_osrm['perfect_road_types'], 'haversine_to_nn_dropoff_distance'] = bad_good_haversine_distances_dropoff\n"
   ],
   "metadata": {
    "collapsed": false
   },
   "id": "e1a59b71fcacb03a"
  },
  {
   "cell_type": "code",
   "execution_count": null,
   "outputs": [],
   "source": [
    "\n",
    "\n",
    "# Create a map centered on NYC\n",
    "\n",
    "def plot_pairs_on_map(map, data, distance_threshold: tuple = None):\n",
    "    colors = ['lightgreen', 'purple', 'white', 'darkgreen', 'darkblue', 'lightblue', 'cadetblue', 'pink', 'gray', 'lightgray', 'orange', 'darkpurple', 'black', 'beige', 'red', 'darkred', 'lightred', 'green', 'blue']\n",
    "    \n",
    "    for i, color in enumerate(colors):\n",
    "        # Extract a bad sample\n",
    "        if distance_threshold:\n",
    "            bad_samples_within_range = data[(data['haversine_to_nn_pickup_distance'] >= distance_threshold[0]) & (data['haversine_to_nn_pickup_distance'] <= distance_threshold[1]) & (data['haversine_to_nn_dropoff_distance'] >= distance_threshold[0]) & (data['haversine_to_nn_dropoff_distance'] <= distance_threshold[1])]\n",
    "            bad_sample = bad_samples_within_range.iloc[i]\n",
    "        else:\n",
    "            bad_sample = data.loc[~data['perfect_distance'] | ~data['perfect_duration'] | ~data['perfect_road_types']].iloc[i]\n",
    "        nearest_neighbor_id = bad_sample['nearest_neighbor_id']\n",
    "        \n",
    "        # Find the nearest neighbor using the ID\n",
    "        nearest_neighbor = data[data['id'] == nearest_neighbor_id].iloc[0]\n",
    "        \n",
    "        # Add pickup and dropoff points for the bad sample\n",
    "        folium.Marker([bad_sample['pickup_latitude'], bad_sample['pickup_longitude']], icon=folium.Icon(color=color)).add_to(map)\n",
    "        folium.Marker([bad_sample['dropoff_latitude'], bad_sample['dropoff_longitude']], icon=folium.Icon(color=color)).add_to(map)\n",
    "        \n",
    "        # Add pickup and dropoff points for the nearest neighbor\n",
    "        folium.Marker([nearest_neighbor['pickup_latitude'], nearest_neighbor['pickup_longitude']], icon=folium.Icon(color=color, icon='cloud')).add_to(map)\n",
    "        folium.Marker([nearest_neighbor['dropoff_latitude'], nearest_neighbor['dropoff_longitude']], icon=folium.Icon(color=color, icon='cloud')).add_to(map)\n",
    "        \n",
    "        # Draw polylines for the pickup and dropoff points with haversine distance in the popup\n",
    "        folium.PolyLine([[bad_sample['pickup_latitude'], bad_sample['pickup_longitude']], \n",
    "                         [nearest_neighbor['pickup_latitude'], nearest_neighbor['pickup_longitude']]], \n",
    "                        color='blue', popup=f'Haversine Distance: {bad_sample[\"haversine_to_nn_pickup_distance\"]:.2f} meters').add_to(map)\n",
    "        \n",
    "        folium.PolyLine([[bad_sample['dropoff_latitude'], bad_sample['dropoff_longitude']], \n",
    "                         [nearest_neighbor['dropoff_latitude'], nearest_neighbor['dropoff_longitude']]], \n",
    "                        color='blue', popup=f'Haversine Distance: {bad_sample[\"haversine_to_nn_dropoff_distance\"]:.2f} meters').add_to(map)\n",
    "        \n",
    "        # Draw lines between pickup and dropoff points for both the bad sample and its nearest neighbor\n",
    "        folium.PolyLine([[bad_sample['pickup_latitude'], bad_sample['pickup_longitude']], \n",
    "                         [bad_sample['dropoff_latitude'], bad_sample['dropoff_longitude']]], \n",
    "                        color='red', popup=f'Haversine Distance: {bad_sample[\"haversine_distance\"]:.2f} meters').add_to(map)\n",
    "        \n",
    "        folium.PolyLine([[nearest_neighbor['pickup_latitude'], nearest_neighbor['pickup_longitude']], \n",
    "                         [nearest_neighbor['dropoff_latitude'], nearest_neighbor['dropoff_longitude']]], \n",
    "                        color='red', popup=f'Haversine Distance: {nearest_neighbor[\"haversine_distance\"]:.2f} meters').add_to(map)\n",
    "\n",
    "nyc_map = folium.Map(location=[40.748817, -73.985428], zoom_start=10)\n",
    "plot_pairs_on_map(nyc_map, nyc_with_osrm)\n",
    "# Display the map\n",
    "nyc_map\n"
   ],
   "metadata": {
    "collapsed": false
   },
   "id": "a271051cff113a6"
  },
  {
   "cell_type": "code",
   "execution_count": null,
   "outputs": [],
   "source": [
    "# describe the bad data\n",
    "nyc_with_osrm.loc[~nyc_with_osrm['perfect_distance'] | ~nyc_with_osrm['perfect_duration'] | ~nyc_with_osrm['perfect_road_types'], ['haversine_to_nn_pickup_distance', 'haversine_to_nn_dropoff_distance']].describe(percentiles=[0.01, 0.05, 0.95,0.975,  0.99])"
   ],
   "metadata": {
    "collapsed": false
   },
   "id": "fe631976fb8c71b3"
  },
  {
   "cell_type": "code",
   "execution_count": null,
   "outputs": [],
   "source": [
    "nyc_with_osrm.info()"
   ],
   "metadata": {
    "collapsed": false
   },
   "id": "1376b64cc1e69ef0"
  },
  {
   "cell_type": "markdown",
   "source": [
    "If we choose the 97.5%, the haversine distance between the bad samples and their nearest neighbors is less than 500 meters, this is a reasonable value, we will use this value to fix the imperfect data, we can assume that round types in this range should be more or less the same."
   ],
   "metadata": {
    "collapsed": false
   },
   "id": "6087c22bc34ce575"
  },
  {
   "cell_type": "code",
   "execution_count": null,
   "outputs": [],
   "source": [
    "columns_to_update = road_types + ['osrm_distance', 'osrm_duration']\n",
    "merged_df = nyc_with_osrm.merge(\n",
    "    nyc_with_osrm[['id'] + columns_to_update],\n",
    "    left_on='nearest_neighbor_id',\n",
    "    right_on='id',\n",
    "    suffixes=('', '_nn'),\n",
    "    how='left'\n",
    ")\n",
    "\n",
    "# Apply the distance conditions to filter bad samples\n",
    "condition = (\n",
    "    (~merged_df['perfect_distance'] | ~merged_df['perfect_duration'] | ~merged_df['perfect_road_types']) &\n",
    "    (merged_df['haversine_to_nn_pickup_distance'] < 500) &\n",
    "    (merged_df['haversine_to_nn_dropoff_distance'] < 500)\n",
    ")\n",
    "\n",
    "# Update the columns with the nearest neighbor's data where conditions are met\n",
    "for column in columns_to_update:\n",
    "    merged_df.loc[condition, column] = merged_df.loc[condition, f'{column}_nn']\n",
    "\n",
    "# Update the perfect flags\n",
    "merged_df.loc[condition, 'perfect_road_types'] = True\n",
    "merged_df.loc[condition, 'perfect_distance'] = True\n",
    "merged_df.loc[condition, 'perfect_duration'] = True\n",
    "\n",
    "# Drop the unnecessary columns\n",
    "nyc_with_osrm = merged_df.drop([col + '_nn' for col in columns_to_update] + ['id_nn'], axis=1)"
   ],
   "metadata": {
    "collapsed": false
   },
   "id": "e77523c7709b1b57"
  },
  {
   "cell_type": "code",
   "execution_count": null,
   "outputs": [],
   "source": [
    "print('Percentage of perfect data after fixing the imperfect data:')\n",
    "print(len(nyc_with_osrm[nyc_with_osrm['perfect_distance'] & nyc_with_osrm['perfect_duration'] & nyc_with_osrm['perfect_road_types']])/len(nyc_with_osrm)*100)"
   ],
   "metadata": {
    "collapsed": false
   },
   "id": "bb646c654bf60102"
  },
  {
   "cell_type": "code",
   "execution_count": null,
   "outputs": [],
   "source": [
    "# get some samples with distance between 400 and 500 meters along with good samples\n",
    "\n",
    "nyc_map = folium.Map(location=[40.748817, -73.985428], zoom_start=10)\n",
    "plot_pairs_on_map(nyc_map, nyc_with_osrm, distance_threshold=(400, 500))\n",
    "nyc_map"
   ],
   "metadata": {
    "collapsed": false
   },
   "id": "5c2943921f27e629"
  },
  {
   "cell_type": "code",
   "execution_count": null,
   "outputs": [],
   "source": [
    "# keep only samples that are marked as perfect\n",
    "nyc_with_osrm = nyc_with_osrm[nyc_with_osrm['perfect_distance'] & nyc_with_osrm['perfect_duration'] & nyc_with_osrm['perfect_road_types']]\n",
    "\n",
    "# drop the unnecessary columns\n",
    "nyc_with_osrm.drop(['nearest_neighbor_id', 'haversine_to_nn_pickup_distance', 'haversine_to_nn_dropoff_distance', 'perfect_distance', 'perfect_duration', 'perfect_road_types'], axis=1, inplace=True)"
   ],
   "metadata": {
    "collapsed": false
   },
   "id": "56b97fb872398e76"
  },
  {
   "cell_type": "code",
   "execution_count": null,
   "outputs": [],
   "source": [
    "nyc_with_osrm.info()"
   ],
   "metadata": {
    "collapsed": false
   },
   "id": "ca5daec7c0bfbc0f"
  },
  {
   "cell_type": "code",
   "execution_count": null,
   "outputs": [],
   "source": [
    "# reset the index\n",
    "nyc_with_osrm.reset_index(drop=True, inplace=True)\n",
    "nyc_with_osrm.info()"
   ],
   "metadata": {
    "collapsed": false
   },
   "id": "8d69af1f3a6aa571"
  },
  {
   "cell_type": "code",
   "execution_count": null,
   "outputs": [],
   "source": [
    "# update duration ratio and duration diff\n",
    "nyc_with_osrm['duration_ratio'] = nyc_with_osrm['trip_duration'] / nyc_with_osrm['osrm_duration']\n",
    "nyc_with_osrm['duration_diff'] = nyc_with_osrm['trip_duration'] - nyc_with_osrm['osrm_duration']"
   ],
   "metadata": {
    "collapsed": false
   },
   "id": "74494b6d1fecd39b"
  },
  {
   "cell_type": "code",
   "execution_count": null,
   "outputs": [],
   "source": [
    "# take data with perfect distance and duration and road types and plot duration_ratio vs haversine_distance\n",
    "plt.figure(figsize=(10, 6))\n",
    "plt.scatter(nyc_with_osrm['haversine_distance'], nyc_with_osrm['duration_ratio'], alpha=0.5)\n",
    "\n",
    "plt.xlabel('Haversine Distance')\n",
    "plt.ylabel('Duration Ratio')\n",
    "plt.title('Haversine Distance vs Duration Ratio')\n",
    "plt.grid(True)\n",
    "plt.show()\n"
   ],
   "metadata": {
    "collapsed": false
   },
   "id": "ffe536df7e368eb8"
  },
  {
   "cell_type": "code",
   "execution_count": null,
   "outputs": [],
   "source": [
    "# plot trip_duration vs haversine_distance\n",
    "plt.figure(figsize=(10, 6))\n",
    "plt.scatter(nyc_with_osrm['haversine_distance'], nyc_with_osrm['trip_duration'], alpha=0.5)\n",
    "\n",
    "plt.xlabel('Haversine Distance')\n",
    "plt.ylabel('Trip Duration')\n",
    "plt.title('Haversine Distance vs Trip Duration')\n",
    "plt.grid(True)\n",
    "plt.show()"
   ],
   "metadata": {
    "collapsed": false
   },
   "id": "da33b0b3b02940d4"
  },
  {
   "cell_type": "code",
   "execution_count": null,
   "outputs": [],
   "source": [
    "# filter samples with trip duration bigger than 20000\n",
    "nyc_with_osrm = nyc_with_osrm[nyc_with_osrm['trip_duration'] < 20000]"
   ],
   "metadata": {
    "collapsed": false
   },
   "id": "92405bd13ebed5c0"
  },
  {
   "cell_type": "markdown",
   "source": [
    "we filtered road types that are less than 0.95, we will normalize the road types that are not 1 to be 1"
   ],
   "metadata": {
    "collapsed": false
   },
   "id": "d4cc2ec67f8bb70c"
  },
  {
   "cell_type": "code",
   "execution_count": null,
   "outputs": [],
   "source": [
    "road_types = ['motorway', 'trunk', 'primary', 'secondary', 'tertiary', 'unclassified', 'residential']\n",
    "nyc_with_osrm[road_types] = nyc_with_osrm[road_types].div(nyc_with_osrm[road_types].sum(axis=1), axis=0)"
   ],
   "metadata": {
    "collapsed": false
   },
   "id": "ac836bb50d7fdb3c"
  },
  {
   "cell_type": "code",
   "execution_count": null,
   "outputs": [],
   "source": [
    "nyc_with_osrm[road_types].sum(axis=1).round(1).value_counts()"
   ],
   "metadata": {
    "collapsed": false
   },
   "id": "9df4db9b5d54633f"
  },
  {
   "cell_type": "code",
   "execution_count": null,
   "outputs": [],
   "source": [
    "nyc_with_osrm.info()"
   ],
   "metadata": {
    "collapsed": false
   },
   "id": "6e5b8f1152a56aaa"
  },
  {
   "cell_type": "markdown",
   "source": [
    "#### Re-Exploring the NYC OSRM Dataset after fixing the imperfect data\n",
    "\n",
    "1) County Distribution"
   ],
   "metadata": {
    "collapsed": false
   },
   "id": "a9e9284a325929e0"
  },
  {
   "cell_type": "code",
   "execution_count": null,
   "outputs": [],
   "source": [
    "nyc_map = folium.Map(location=[40.748817, -73.985428], zoom_start=10)\n",
    "plot_county_map(nyc_map, nyc_with_osrm)\n",
    "nyc_map"
   ],
   "metadata": {
    "collapsed": false
   },
   "id": "4e0e8ed5342b5366"
  },
  {
   "cell_type": "code",
   "execution_count": null,
   "outputs": [],
   "source": [
    "combined_data = create_data_for_county_plot(nyc_with_osrm)\n",
    "# Plot the combined data\n",
    "plt.figure(figsize=(10, 6))\n",
    "sns.countplot(x='CountyClass', hue='type', data=combined_data)\n",
    "plt.title('Number of Trips per County Class (srcCountyClass vs dstCountyClass)')\n",
    "\n",
    "# Add values on top of the bars\n",
    "for p in plt.gca().patches:\n",
    "    plt.gca().annotate(f'{int(p.get_height())}', (p.get_x() + p.get_width() / 2., p.get_height()), ha='center', va='baseline', fontsize=10, color='black', xytext=(0, 5), textcoords='offset points')\n",
    "    \n",
    "plt.show()"
   ],
   "metadata": {
    "collapsed": false
   },
   "id": "e4cc6b341e5e5937"
  },
  {
   "cell_type": "markdown",
   "source": [
    "Due to the filtering, we lost most of long island trips, it is ok since we only had around 500 trips that start or end in long island."
   ],
   "metadata": {
    "collapsed": false
   },
   "id": "3f380001cc1cc08d"
  },
  {
   "cell_type": "markdown",
   "source": [
    "2) Trip duration vs OSRM Duration and OSRM Distance"
   ],
   "metadata": {
    "collapsed": false
   },
   "id": "254669f579f1c93c"
  },
  {
   "cell_type": "code",
   "execution_count": null,
   "outputs": [],
   "source": [
    "plt.figure(figsize=(10, 6))\n",
    "plt.hexbin(np.log(nyc_with_osrm['osrm_duration']), np.log(nyc_with_osrm['trip_duration']), gridsize=50,  mincnt=1)\n",
    "log_ticks = np.linspace(np.log(nyc_with_osrm['osrm_duration']).min(), np.log(nyc_with_osrm['osrm_duration']).max(), num=10)\n",
    "original_ticks = np.expm1(log_ticks)\n",
    "plt.xticks(log_ticks, labels=[f'{int(tick):,}' for tick in original_ticks])\n",
    "# do the same for the y axis\n",
    "log_ticks = np.linspace(np.log(nyc_with_osrm['trip_duration']).min(), np.log(nyc_with_osrm['trip_duration']).max(), num=10)\n",
    "original_ticks = np.expm1(log_ticks)\n",
    "plt.yticks(log_ticks, labels=[f'{int(tick):,}' for tick in original_ticks])\n",
    "plt.title('Hexbin Plot of Trip Duration vs OSRM Duration')\n",
    "plt.xlabel('OSRM Duration log(seconds)')\n",
    "plt.ylabel('Trip Duration log(seconds)')\n",
    "\n",
    "cbar = plt.colorbar(label='Count')\n",
    "cbar.set_ticks(cbar.get_ticks())\n",
    "cbar.set_ticklabels([int(tick / 1000) for tick in cbar.get_ticks()])\n",
    "cbar.set_label('Count (x1k)')\n",
    "\n",
    "plt.show()"
   ],
   "metadata": {
    "collapsed": false
   },
   "id": "5d07a1c22bf77dcc"
  },
  {
   "cell_type": "code",
   "execution_count": null,
   "outputs": [],
   "source": [
    "# filter the data by trip duration up to 1 hour\n",
    "filtered_nyc_with_osrm = nyc_with_osrm[nyc_with_osrm['trip_duration'] < 60 * 60]\n",
    "# filter the data by osrm distance up to 100 km\n",
    "filtered_nyc_with_osrm = filtered_nyc_with_osrm[filtered_nyc_with_osrm['osrm_distance'] < 80000]\n",
    "\n",
    "plt.figure(figsize=(10, 6))\n",
    "plt.hexbin(filtered_nyc_with_osrm['osrm_distance'], filtered_nyc_with_osrm['trip_duration'], gridsize=50, mincnt=1)\n",
    "plt.title('Hexbin Plot of Trip Duration vs OSRM Distance')\n",
    "plt.xlabel('OSRM Distance (meters)')\n",
    "plt.ylabel('Trip Duration (seconds)')\n",
    "cbar = plt.colorbar(label='Count')\n",
    "cbar.set_ticks(cbar.get_ticks())\n",
    "cbar.set_ticklabels([int(tick / 1000) for tick in cbar.get_ticks()])\n",
    "cbar.set_label('Count (x1k)')\n",
    "plt.show()"
   ],
   "metadata": {
    "collapsed": false
   },
   "id": "d418fd98b3f43acc"
  },
  {
   "cell_type": "markdown",
   "source": [
    "#### Road Conditions Analysis\n",
    "\n",
    "We will try to understand the road conditions data in the OSRM dataset and how it relates to the trip duration.\n",
    "Since we have alot of combinations of road types, we will start by grouping them into main classes.\n",
    "\n",
    "First step is to understand how many categories we have, we will use KMeans clustering to group the road types into clusters, and find the optimal number of clusters using the elbow method."
   ],
   "metadata": {
    "collapsed": false
   },
   "id": "29089a61b67ab382"
  },
  {
   "cell_type": "code",
   "execution_count": null,
   "outputs": [],
   "source": [
    "from sklearn.preprocessing import StandardScaler\n",
    "\n",
    "# Select the road type columns for clustering\n",
    "road_types = nyc_with_osrm[['motorway', 'trunk', 'primary', 'secondary',\n",
    "                  'tertiary', 'unclassified', 'residential']]\n",
    "\n",
    "# Standardize the data\n",
    "scaler = StandardScaler()\n",
    "road_types_scaled = scaler.fit_transform(road_types)"
   ],
   "metadata": {
    "collapsed": false
   },
   "id": "ffeb3091e0770a75"
  },
  {
   "cell_type": "code",
   "execution_count": null,
   "outputs": [],
   "source": [
    "from sklearn.cluster import KMeans\n",
    "\n",
    "# Determine the optimal number of clusters using the elbow method\n",
    "inertia = []\n",
    "for n_clusters in range(1, 11):\n",
    "    kmeans = KMeans(n_clusters=n_clusters, random_state=42, n_init=10)\n",
    "    kmeans.fit(road_types_scaled)\n",
    "    inertia.append(kmeans.inertia_)\n",
    "\n",
    "# Plot the elbow curve\n",
    "plt.figure(figsize=(8, 6))\n",
    "plt.plot(range(1, 11), inertia, marker='o')\n",
    "plt.title('Elbow Method for Optimal Number of Clusters')\n",
    "plt.xlabel('Number of Clusters')\n",
    "plt.ylabel('Inertia')\n",
    "plt.show()\n"
   ],
   "metadata": {
    "collapsed": false
   },
   "id": "ff35798a421136f"
  },
  {
   "cell_type": "markdown",
   "source": [
    "From the elbow method, it looks like the optimal number of clusters is around 7, we will use this number to group the road types into clusters."
   ],
   "metadata": {
    "collapsed": false
   },
   "id": "5211b7aad47ecd7d"
  },
  {
   "cell_type": "code",
   "execution_count": null,
   "outputs": [],
   "source": [
    "\n",
    "# Fit the K-Means model with the chosen number of clusters\n",
    "kmeans = KMeans(n_clusters=7, random_state=42, n_init=10)\n",
    "clusters = kmeans.fit_predict(road_types_scaled)\n",
    "\n",
    "# Add the cluster labels to the original DataFrame\n",
    "nyc_with_osrm['roadTypeClass'] = clusters\n"
   ],
   "metadata": {
    "collapsed": false
   },
   "id": "e9284633f354cdd1"
  },
  {
   "cell_type": "code",
   "execution_count": null,
   "outputs": [],
   "source": [
    "# Plot the distribution of trip duration across clusters\n",
    "plt.figure(figsize=(10, 6))\n",
    "sns.boxplot(x='roadTypeClass', y='trip_duration', data=nyc_with_osrm[nyc_with_osrm['trip_duration'] < nyc['trip_duration'].quantile(0.975)])\n",
    "plt.title('Trip Duration by Cluster')\n",
    "plt.xlabel('Road Type Class')\n",
    "plt.ylabel('Trip Duration (seconds)')\n",
    "plt.show()\n",
    "\n",
    "# Calculate the mean fraction of each road type within each cluster\n",
    "road_type_means = nyc_with_osrm.groupby('roadTypeClass')[['motorway', 'trunk', 'primary', 'secondary',\n",
    "                                          'tertiary', 'unclassified', 'residential']].mean().reset_index()\n",
    "# for each road type print the precentage of each road type in each cluster\n",
    "for idx , road_type_class in road_type_means.iterrows():\n",
    "    print(f'Road Type Class {idx}')\n",
    "    for road_type in road_types.columns:\n",
    "        print(f'{road_type} : {road_type_class[road_type]*100:.2f}%')\n",
    "    print('\\n')"
   ],
   "metadata": {
    "collapsed": false
   },
   "id": "2a6bd7d6106e0aef"
  },
  {
   "cell_type": "markdown",
   "source": [
    "\n",
    "\n",
    "The reason why road0 and road5 take the longest time to travel on is because they are mostly trunk and primary roads, which are typically larger and the driving distance is longer\n",
    "."
   ],
   "metadata": {
    "collapsed": false
   },
   "id": "f7efc027d46011f7"
  },
  {
   "cell_type": "markdown",
   "source": [
    "#### Distance vs Road Type"
   ],
   "metadata": {
    "collapsed": false
   },
   "id": "15533b924469a393"
  },
  {
   "cell_type": "code",
   "execution_count": null,
   "outputs": [],
   "source": [
    "# group by roadTypeClass and calculate the mean distance\n",
    "road_type_distance = nyc_with_osrm.groupby('roadTypeClass')['osrm_distance'].mean().reset_index()\n",
    "\n",
    "plt.figure(figsize=(10, 6))\n",
    "sns.barplot(x='roadTypeClass', y='osrm_distance', data=road_type_distance)\n",
    "plt.title('Mean Distance by Road Type Class')\n",
    "plt.xlabel('Road Type Class')\n",
    "plt.ylabel('Mean Distance (meters)')\n",
    "plt.show()"
   ],
   "metadata": {
    "collapsed": false
   },
   "id": "b02b24a93f612b59"
  },
  {
   "cell_type": "code",
   "execution_count": null,
   "outputs": [],
   "source": [
    "# plot countplot for roadTypeClass\n",
    "plt.figure(figsize=(10, 6))\n",
    "sns.countplot(x='roadTypeClass', data=nyc_with_osrm)\n",
    "plt.title('Number of Trips per Road Type Class')\n",
    "plt.xlabel('Road Type Class')\n",
    "plt.ylabel('Number of Trips')\n",
    "plt.show()"
   ],
   "metadata": {
    "collapsed": false
   },
   "id": "ea0a1583139097d6"
  },
  {
   "cell_type": "markdown",
   "source": [],
   "metadata": {
    "collapsed": false
   },
   "id": "66c64cbfadc276a4"
  },
  {
   "cell_type": "markdown",
   "source": [
    "Indeed, road0 and road5 have the longest mean distance, which is consistent with the trip duration analysis."
   ],
   "metadata": {
    "collapsed": false
   },
   "id": "3de0384ac0b6f5e3"
  },
  {
   "cell_type": "code",
   "execution_count": null,
   "outputs": [],
   "source": [
    "# drop distance_diff, duration_diff, duration_ratio\n",
    "nyc_with_osrm.drop(['distance_diff', 'duration_diff', 'duration_ratio'], axis=1, inplace=True)"
   ],
   "metadata": {
    "collapsed": false
   },
   "id": "fda8f348b6c0ff70"
  },
  {
   "cell_type": "code",
   "execution_count": null,
   "outputs": [],
   "source": [
    "# reset the index\n",
    "nyc_with_osrm.reset_index(drop=True, inplace=True)"
   ],
   "metadata": {
    "collapsed": false
   },
   "id": "9d971702dab2da44"
  },
  {
   "cell_type": "code",
   "execution_count": null,
   "outputs": [],
   "source": [
    "nyc_with_osrm.info()"
   ],
   "metadata": {
    "collapsed": false
   },
   "id": "a314fd66618279d0"
  },
  {
   "cell_type": "code",
   "execution_count": null,
   "outputs": [],
   "source": [
    "# save the data\n",
    "# nyc_with_osrm.to_csv('nyc_with_osrm.csv', index=False)"
   ],
   "metadata": {
    "collapsed": false
   },
   "id": "962d990ff0c29f33"
  }
 ],
 "metadata": {
  "kernelspec": {
   "display_name": "Python 3",
   "language": "python",
   "name": "python3"
  },
  "language_info": {
   "codemirror_mode": {
    "name": "ipython",
    "version": 2
   },
   "file_extension": ".py",
   "mimetype": "text/x-python",
   "name": "python",
   "nbconvert_exporter": "python",
   "pygments_lexer": "ipython2",
   "version": "2.7.6"
  }
 },
 "nbformat": 4,
 "nbformat_minor": 5
}
